{
 "cells": [
  {
   "cell_type": "code",
   "execution_count": 1,
   "metadata": {},
   "outputs": [
    {
     "ename": "ModuleNotFoundError",
     "evalue": "No module named 'cv2'",
     "output_type": "error",
     "traceback": [
      "\u001b[1;31m---------------------------------------------------------------------------\u001b[0m",
      "\u001b[1;31mModuleNotFoundError\u001b[0m                       Traceback (most recent call last)",
      "\u001b[1;32m<ipython-input-1-6c58014552ed>\u001b[0m in \u001b[0;36m<module>\u001b[1;34m\u001b[0m\n\u001b[0;32m      1\u001b[0m \u001b[1;32mfrom\u001b[0m \u001b[0mPIL\u001b[0m \u001b[1;32mimport\u001b[0m \u001b[0mImage\u001b[0m\u001b[1;33m\u001b[0m\u001b[0m\n\u001b[1;32m----> 2\u001b[1;33m \u001b[1;32mimport\u001b[0m \u001b[0mcv2\u001b[0m\u001b[1;33m\u001b[0m\u001b[0m\n\u001b[0m\u001b[0;32m      3\u001b[0m \u001b[1;32mimport\u001b[0m \u001b[0mnumpy\u001b[0m \u001b[1;32mas\u001b[0m \u001b[0mnp\u001b[0m\u001b[1;33m\u001b[0m\u001b[0m\n\u001b[0;32m      4\u001b[0m \u001b[1;32mfrom\u001b[0m \u001b[0mmatplotlib\u001b[0m \u001b[1;32mimport\u001b[0m \u001b[0mpyplot\u001b[0m \u001b[1;32mas\u001b[0m \u001b[0mplt\u001b[0m\u001b[1;33m\u001b[0m\u001b[0m\n\u001b[0;32m      5\u001b[0m \u001b[1;32mimport\u001b[0m \u001b[0mos\u001b[0m\u001b[1;33m\u001b[0m\u001b[0m\n",
      "\u001b[1;31mModuleNotFoundError\u001b[0m: No module named 'cv2'"
     ]
    }
   ],
   "source": [
    "from PIL import Image\n",
    "import cv2\n",
    "import numpy as np\n",
    "from matplotlib import pyplot as plt\n",
    "import os\n",
    "import random\n",
    "import scipy\n",
    "import skimage.transform as sc"
   ]
  },
  {
   "cell_type": "code",
   "execution_count": null,
   "metadata": {},
   "outputs": [],
   "source": [
    "%matplotlib inline\n",
    "\n",
    "image = Image.open('raw_chromosome.jpg','r')\n",
    "plt.imshow(image)\n",
    "\n",
    "image = image.convert('L')\n",
    "img = np.array(image)\n",
    "\n",
    "\n",
    "pic_size=img.shape\n",
    "pic_height=pic_size[0]\n",
    "pic_width=pic_size[1]\n",
    "\n",
    "print(pic_size)\n",
    "print(pic_height)\n",
    "print(pic_width)"
   ]
  },
  {
   "cell_type": "code",
   "execution_count": 3,
   "metadata": {},
   "outputs": [
    {
     "data": {
      "image/png": "[encoded data removed]",
      "text/plain": [
       "<matplotlib.figure.Figure at 0x7f67d57d7ba8>"
      ]
     },
     "metadata": {},
     "output_type": "display_data"
    }
   ],
   "source": [
    "#img = cv2.imread('raw_chromosome.jpg',0)\n",
    "\n",
    "thresh1 = cv2.adaptiveThreshold(img,255,cv2.ADAPTIVE_THRESH_GAUSSIAN_C,cv2.THRESH_BINARY,415,2)\n",
    "thresh2 = cv2.adaptiveThreshold(img,127,cv2.ADAPTIVE_THRESH_GAUSSIAN_C,cv2.THRESH_BINARY_INV,55,2)\n",
    "\n",
    "titles = ['Original Image','BINARY','BINARY_INV']\n",
    "images = [img, thresh1, thresh2]\n",
    "\n",
    "\n",
    "for i in range(3):\n",
    "    plt.subplot(1,3,i+1)\n",
    "    plt.imshow(images[i],'gray')    \n",
    "    plt.title(titles[i])    \n",
    "    plt.xticks([])\n",
    "    plt.yticks([])\n",
    "\n",
    "plt.show()\n"
   ]
  },
  {
   "cell_type": "code",
   "execution_count": 4,
   "metadata": {},
   "outputs": [
    {
     "name": "stdout",
     "output_type": "stream",
     "text": [
      "620\n",
      "135\n",
      "1\n"
     ]
    }
   ],
   "source": [
    "# 边界提取\n",
    "im2, contours, hierarchy = cv2.findContours(thresh1,cv2.RETR_TREE,cv2.CHAIN_APPROX_NONE)\n",
    "print(len(im2))\n",
    "print(len(contours))\n",
    "print(len(hierarchy))"
   ]
  },
  {
   "cell_type": "code",
   "execution_count": 10,
   "metadata": {
    "scrolled": true
   },
   "outputs": [
    {
     "name": "stdout",
     "output_type": "stream",
     "text": [
      "135\n"
     ]
    },
    {
     "name": "stderr",
     "output_type": "stream",
     "text": [
      "/opt/conda/envs/python36_tf/lib/python3.6/site-packages/skimage/transform/_warps.py:84: UserWarning: The default mode, 'constant', will be changed to 'reflect' in skimage 0.15.\n",
      "  warn(\"The default mode, 'constant', will be changed to 'reflect' in \"\n"
     ]
    }
   ],
   "source": [
    "# 图片提取\n",
    "pred_dir = 'pics_black'\n",
    "if not os.path.exists(pred_dir):\n",
    "    os.mkdir(pred_dir)\n",
    "\n",
    "img2=[0 for i in range(len(contours))]\n",
    "print(len(contours))\n",
    "\n",
    "img_array=image.load()\n",
    "\n",
    "\n",
    "for i in range(len(contours)):\n",
    "    b_image = Image.open('black_background.jpg','r').convert('L')\n",
    "    b_img = np.array(b_image)\n",
    "    b_img = sc.resize(b_img,(620,558),preserve_range=True)\n",
    "    \n",
    "    img2[i] = b_img #设置一张黑色背景图片\n",
    "    cv2.drawContours(img2[i],contours[i],-1,(0,255,0),0)  #画边界 \n",
    "    \n",
    "    #全图片遍历找到相应的在轮廓之内的点\n",
    "    for a in range(pic_height):\n",
    "        for b in range(pic_width):\n",
    "            #辨别是否在轮廓内是定义为1，不是定义为-1\n",
    "            result = cv2.pointPolygonTest(contours[i], (a,b), False)\n",
    "            if result > 0:\n",
    "                img2[i][b,a] = img_array[a,b]\n",
    "                \n",
    "    \n",
    "    #保存\n",
    "    #scipy.misc.imsave('pic_'+str(i)+'.jpg',img2[i])\n",
    "    plt.imsave(os.path.join(pred_dir, str(i + 1) + '.png'), img2[i], cmap = 'gray')"
   ]
  },
  {
   "cell_type": "code",
   "execution_count": null,
   "metadata": {},
   "outputs": [],
   "source": []
  }
 ],
 "metadata": {
  "kernelspec": {
   "display_name": "Python 3",
   "language": "python",
   "name": "python3"
  }
 },
 "nbformat": 4,
 "nbformat_minor": 2
}
